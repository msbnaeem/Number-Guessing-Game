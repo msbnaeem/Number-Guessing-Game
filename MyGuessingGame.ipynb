{
 "cells": [
  {
   "cell_type": "code",
   "execution_count": 2,
   "metadata": {},
   "outputs": [
    {
     "name": "stdout",
     "output_type": "stream",
     "text": [
      "31\n"
     ]
    }
   ],
   "source": [
    "import random\n",
    "num = random.randint(1,100)\n",
    "print(num)"
   ]
  },
  {
   "cell_type": "code",
   "execution_count": 3,
   "metadata": {},
   "outputs": [
    {
     "name": "stdout",
     "output_type": "stream",
     "text": [
      "[]\n"
     ]
    }
   ],
   "source": [
    "guessList = []\n",
    "print(guessList)"
   ]
  },
  {
   "cell_type": "code",
   "execution_count": null,
   "metadata": {},
   "outputs": [],
   "source": [
    "while True:\n",
    "    guess = int(input(\"Please guess a number: \"))\n",
    "    guessList.append(guess)\n",
    "    \n",
    "    if guess < 1 or guess > 100:\n",
    "        print('out of bound number')\n",
    "        continue\n",
    "    break\n",
    "    print(guess)"
   ]
  },
  {
   "cell_type": "code",
   "execution_count": null,
   "metadata": {},
   "outputs": [],
   "source": []
  },
  {
   "cell_type": "code",
   "execution_count": 4,
   "metadata": {},
   "outputs": [
    {
     "name": "stdout",
     "output_type": "stream",
     "text": [
      "Please guess a number: 76\n",
      "Cold!\n",
      "Please guess a number: 41\n",
      "Warmer!\n",
      "Please guess a number: 51\n",
      "Colder!\n",
      "Please guess a number: 41\n",
      "Warmer!\n",
      "Please guess a number: 51\n",
      "Colder!\n",
      "Please guess a number: 31\n",
      "Congrats, that's the correct guess and it took you 6 guess(s)\n",
      "your correct guess was 31 and total were 6, [76, 41, 51, 41, 51, 31]\n"
     ]
    }
   ],
   "source": [
    "\n",
    "guessList = []\n",
    "flag = True\n",
    "while flag:    \n",
    "    \n",
    "    guess = int(input(\"Please guess a number: \"))\n",
    "    guessList.append(guess)\n",
    "\n",
    "        \n",
    "    if guess < 1 or guess > 100:\n",
    "        print('out of bound number, try again')\n",
    "        continue\n",
    "        \n",
    "    if guess == num:\n",
    "        print(f\"Congrats, that's the correct guess and it took you {len(guessList)} guess(s)\")\n",
    "        print(f'your correct guess was {guess} and total were {len(guessList)}, {guessList}')\n",
    "#         guessList = []\n",
    "        \n",
    "        break\n",
    "#     guess != num and\n",
    "    if len(guessList) == 1:\n",
    "        \n",
    "        if abs(guess - num) <= 10:\n",
    "            print(\"Warm!\")\n",
    "        else:\n",
    "            print(\"Cold!\")\n",
    "    else:\n",
    "#         lastGuess = len(guessList) -1\n",
    "        if abs(num - guess) < abs(num - guessList[-2]):\n",
    "            print(\"Warmer!\")\n",
    "        elif abs(num - guess) > abs(num - guessList[-2]):\n",
    "            print(\"Colder!\")\n",
    "    \n"
   ]
  },
  {
   "cell_type": "code",
   "execution_count": null,
   "metadata": {},
   "outputs": [],
   "source": [
    "import random\n",
    "\n",
    "class guessingGame:\n",
    "    \n",
    "    num = random.randint(1,100)\n",
    "    \n",
    "    def __init__(self, )"
   ]
  },
  {
   "cell_type": "code",
   "execution_count": null,
   "metadata": {},
   "outputs": [],
   "source": []
  }
 ],
 "metadata": {
  "kernelspec": {
   "display_name": "Python 3",
   "language": "python",
   "name": "python3"
  },
  "language_info": {
   "codemirror_mode": {
    "name": "ipython",
    "version": 3
   },
   "file_extension": ".py",
   "mimetype": "text/x-python",
   "name": "python",
   "nbconvert_exporter": "python",
   "pygments_lexer": "ipython3",
   "version": "3.8.5"
  }
 },
 "nbformat": 4,
 "nbformat_minor": 4
}
